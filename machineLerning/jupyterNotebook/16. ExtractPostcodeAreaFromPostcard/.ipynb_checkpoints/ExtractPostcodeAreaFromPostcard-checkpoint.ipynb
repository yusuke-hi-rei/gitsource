{
 "cells": [
  {
   "cell_type": "markdown",
   "metadata": {},
   "source": [
    "# ・Extract postcode area from postcard."
   ]
  },
  {
   "cell_type": "code",
   "execution_count": 12,
   "metadata": {},
   "outputs": [
    {
     "data": {
      "image/png": "[encoded data removed]",
      "text/plain": [
       "<Figure size 432x288 with 1 Axes>"
      ]
     },
     "metadata": {
      "needs_background": "light"
     },
     "output_type": "display_data"
    }
   ],
   "source": [
    "import cv2\n",
    "import matplotlib.pyplot as plt\n",
    "\n",
    "#! \n",
    "#! This function is modularized as detect_zip.py. \n",
    "#!\n",
    "def detect_zipno(fname):\n",
    "    #! Load image.\n",
    "    img = cv2.imread(fname)\n",
    "    #! Find the size of the image.\n",
    "    h, w = img.shape[:2]\n",
    "    #! Extract only the upper right corner of the postcard image.\n",
    "    img = img[0:h//2, w//3:]\n",
    "    \n",
    "    gray = cv2.cvtColor(img, cv2.COLOR_BGR2GRAY)\n",
    "    # Smooth image. (画像を平滑化(ぼかし))\n",
    "    gray = cv2.GaussianBlur(gray, (3, 3), 0)\n",
    "    # Image binarization. (画像を2値化)\n",
    "    im2 = cv2.threshold(gray, 140, 255, cv2.THRESH_BINARY_INV)[1]\n",
    "\n",
    "    #! Contour extraction.\n",
    "    #print(cv2.findContours, __doc__)\n",
    "    cnts = cv2.findContours(im2,\n",
    "                            cv2.RETR_LIST,\n",
    "                            cv2.CHAIN_APPROX_SIMPLE)[0]\n",
    "\n",
    "    result = []\n",
    "    #! Draw the extracted frame.(輪郭抽出)\n",
    "    for pt in cnts:\n",
    "        x, y, w, h = cv2.boundingRect(pt)\n",
    "        # Eliminate areas that are too large or too small.\n",
    "        if not 50 < w < 70:\n",
    "            continue\n",
    "        result.append([x, y, w, h])\n",
    "    result = sorted(result, key=lambda x: x[0])\n",
    "\n",
    "    result2 = []\n",
    "    lastx = -100\n",
    "    #! Draw the extracted frame.(輪郭抽出)\n",
    "    for x, y, w, h in result:\n",
    "        if (x - lastx) < 10:\n",
    "            continue\n",
    "        result2.append([x, y, w, h])\n",
    "        lastx = x\n",
    "    #! Draw a green frame.\n",
    "    for x, y, w, h in result2:\n",
    "        cv2.rectangle(img, (x, y), (x + w, y + h), (0, 255, 0), 3)\n",
    "    return result2, img\n",
    "\n",
    "if __name__ == \"__main__\":\n",
    "    #! Specify the postcard image and extract the area.\n",
    "    cnts, img = detect_zipno(\"hagaki1.png\")\n",
    "    #! Draw the extraction result on the screen.\n",
    "    plt.imshow(cv2.cvtColor(img, cv2.COLOR_BGR2RGB))\n",
    "    plt.savefig(\"detect-zip.png\", dpi = 200)\n",
    "    plt.show()"
   ]
  },
  {
   "cell_type": "markdown",
   "metadata": {},
   "source": [
    "# ・The extracted numeric image is determined."
   ]
  },
  {
   "cell_type": "code",
   "execution_count": 33,
   "metadata": {},
   "outputs": [
    {
     "name": "stderr",
     "output_type": "stream",
     "text": [
      "C:\\Users\\konan\\Anaconda3\\lib\\site-packages\\matplotlib\\text.py:1150: FutureWarning: elementwise comparison failed; returning scalar instead, but in the future will perform elementwise comparison\n",
      "  if s != self._text:\n",
      "C:\\Users\\konan\\Anaconda3\\lib\\site-packages\\matplotlib\\text.py:1150: FutureWarning: elementwise comparison failed; returning scalar instead, but in the future will perform elementwise comparison\n",
      "  if s != self._text:\n",
      "C:\\Users\\konan\\Anaconda3\\lib\\site-packages\\matplotlib\\text.py:1150: FutureWarning: elementwise comparison failed; returning scalar instead, but in the future will perform elementwise comparison\n",
      "  if s != self._text:\n",
      "C:\\Users\\konan\\Anaconda3\\lib\\site-packages\\matplotlib\\text.py:1150: FutureWarning: elementwise comparison failed; returning scalar instead, but in the future will perform elementwise comparison\n",
      "  if s != self._text:\n",
      "C:\\Users\\konan\\Anaconda3\\lib\\site-packages\\matplotlib\\text.py:1150: FutureWarning: elementwise comparison failed; returning scalar instead, but in the future will perform elementwise comparison\n",
      "  if s != self._text:\n",
      "C:\\Users\\konan\\Anaconda3\\lib\\site-packages\\matplotlib\\text.py:1150: FutureWarning: elementwise comparison failed; returning scalar instead, but in the future will perform elementwise comparison\n",
      "  if s != self._text:\n",
      "C:\\Users\\konan\\Anaconda3\\lib\\site-packages\\matplotlib\\text.py:1150: FutureWarning: elementwise comparison failed; returning scalar instead, but in the future will perform elementwise comparison\n",
      "  if s != self._text:\n"
     ]
    },
    {
     "data": {
      "image/png": "[encoded data removed]",
      "text/plain": [
       "<Figure size 432x288 with 7 Axes>"
      ]
     },
     "metadata": {
      "needs_background": "light"
     },
     "output_type": "display_data"
    }
   ],
   "source": [
    "from detect_zip import *\n",
    "import matplotlib.pyplot as plt\n",
    "\n",
    "from sklearn.externals import joblib\n",
    "\n",
    "#! Read trained handwritten digit data.\n",
    "clf = joblib.load(\"digits.pkl\")\n",
    "\n",
    "#! Read an area from an image.\n",
    "cnts, img = detect_zipno(\"hagaki1.png\")\n",
    "\n",
    "#! Plot the read data.\n",
    "for i, pt in enumerate(cnts):\n",
    "    x, y, w, h = pt\n",
    "    # Reduce by the outline of the frame.\n",
    "    x += 8\n",
    "    y += 8\n",
    "    w -= 16\n",
    "    h -= 16\n",
    "    #! Retrieve image data.\n",
    "    im2 = img[y:y+h, x:x+w]\n",
    "    #! Fit data to trained.\n",
    "    im2gray = cv2.cvtColor(im2, cv2.COLOR_BGR2GRAY)\n",
    "    im2gray = cv2.resize(im2gray, (8, 8))\n",
    "    im2gray = 15 - im2gray\n",
    "    im2gray = im2gray.reshape((-1, 64))\n",
    "    #! Predict data.\n",
    "    res = clf.predict(im2gray)\n",
    "    #! Output to screen.\n",
    "    plt.subplot(1, 7, i + 1)\n",
    "    plt.imshow(im2)\n",
    "    plt.axis(\"off\")\n",
    "    plt.title(res)\n",
    "\n",
    "plt.show()\n"
   ]
  },
  {
   "cell_type": "code",
   "execution_count": null,
   "metadata": {},
   "outputs": [],
   "source": []
  }
 ],
 "metadata": {
  "kernelspec": {
   "display_name": "Python 3",
   "language": "python",
   "name": "python3"
  },
  "language_info": {
   "codemirror_mode": {
    "name": "ipython",
    "version": 3
   },
   "file_extension": ".py",
   "mimetype": "text/x-python",
   "name": "python",
   "nbconvert_exporter": "python",
   "pygments_lexer": "ipython3",
   "version": "3.7.4"
  }
 },
 "nbformat": 4,
 "nbformat_minor": 2
}
