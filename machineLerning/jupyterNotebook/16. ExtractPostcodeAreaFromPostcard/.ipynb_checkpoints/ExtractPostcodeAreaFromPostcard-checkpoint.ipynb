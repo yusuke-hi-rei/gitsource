{
 "cells": [
  {
   "cell_type": "markdown",
   "metadata": {},
   "source": [
    "# ・Extract postcode area from postcard."
   ]
  },
  {
   "cell_type": "code",
   "execution_count": 22,
   "metadata": {},
   "outputs": [
    {
     "data": {
      "image/png": "[encoded data removed]",
      "text/plain": [
       "<Figure size 432x288 with 1 Axes>"
      ]
     },
     "metadata": {
      "needs_background": "light"
     },
     "output_type": "display_data"
    }
   ],
   "source": [
    "import cv2\n",
    "import matplotlib.pyplot as plt\n",
    "\n",
    "def detect_zipno(fname):\n",
    "    \n",
    "    img = cv2.imread(fname)\n",
    "    \n",
    "    h, w = img.shape[:2]\n",
    "    \n",
    "    img = img[0:h//2, w//3:]\n",
    "    \n",
    "    gray = cv2.cvtColor(img, cv2.COLOR_BGR2GRAY)\n",
    "    # Smooth image. (画像を平滑化(ぼかし))\n",
    "    gray = cv2.GaussianBlur(gray, (3, 3), 0)\n",
    "    # Image binarization. (画像を2値化)\n",
    "    im2 = cv2.threshold(gray, 140, 255, cv2.THRESH_BINARY_INV)[1]\n",
    "\n",
    "    #! Contour extraction.\n",
    "    #print(cv2.findContours, __doc__)\n",
    "    cnts = cv2.findContours(im2,\n",
    "                            cv2.RETR_LIST,\n",
    "                            cv2.CHAIN_APPROX_SIMPLE)[0]\n",
    "\n",
    "    result = []\n",
    "    #! Draw the extracted frame.(輪郭抽出)\n",
    "    for pt in cnts:\n",
    "        x, y, w, h = cv2.boundingRect(pt)\n",
    "        # Eliminate areas that are too large or too small.\n",
    "        if not 50 < w < 70:\n",
    "            continue\n",
    "        result.append([x, y, w, h])\n",
    "    result = sorted(result, key=lambda x: x[0])\n",
    "\n",
    "    result2 = []\n",
    "    lastx = -100\n",
    "    #! Draw the extracted frame.(輪郭抽出)\n",
    "    for x, y, w, h in result:\n",
    "        if (x - lastx) < 10:\n",
    "            continue\n",
    "        result2.append([x, y, w, h])\n",
    "        lastx = x\n",
    "\n",
    "    for x, y, w, h in result2:\n",
    "        cv2.rectangle(img, (x, y), (x + w, y + h), (0, 255, 0), 3)\n",
    "    return result2, img\n",
    "\n",
    "if __name__ == \"__main__\":\n",
    "    \n",
    "    cnts, img = detect_zipno(\"hagaki1.png\")\n",
    "    \n",
    "    plt.imshow(cv2.cvtColor(img, cv2.COLOR_BGR2RGB))\n",
    "    plt.savefig(\"detect-zip.png\", dpi = 200)\n",
    "    plt.show()"
   ]
  },
  {
   "cell_type": "code",
   "execution_count": null,
   "metadata": {},
   "outputs": [],
   "source": []
  }
 ],
 "metadata": {
  "kernelspec": {
   "display_name": "Python 3",
   "language": "python",
   "name": "python3"
  },
  "language_info": {
   "codemirror_mode": {
    "name": "ipython",
    "version": 3
   },
   "file_extension": ".py",
   "mimetype": "text/x-python",
   "name": "python",
   "nbconvert_exporter": "python",
   "pygments_lexer": "ipython3",
   "version": "3.7.4"
  }
 },
 "nbformat": 4,
 "nbformat_minor": 2
}
